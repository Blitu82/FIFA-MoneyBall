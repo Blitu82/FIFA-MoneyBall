{
 "cells": [
  {
   "cell_type": "markdown",
   "id": "551681b0",
   "metadata": {},
   "source": [
    "# FIFA-MoneyBall project"
   ]
  },
  {
   "cell_type": "code",
   "execution_count": null,
   "id": "cbd959d4",
   "metadata": {},
   "outputs": [],
   "source": [
    "import math\n",
    "import pandas as pd\n",
    "import numpy as np\n",
    "import matplotlib.pyplot as plt\n",
    "import seaborn as sns\n",
    "from sklearn.preprocessing import MinMaxScaler, StandardScaler\n",
    "import scipy.stats as stats\n",
    "from sklearn.preprocessing import LabelEncoder, OneHotEncoder\n",
    "from sklearn.model_selection import train_test_split\n",
    "from sklearn.metrics import r2_score, mean_squared_error, mean_absolute_error\n",
    "import statsmodels.api as sm"
   ]
  },
  {
   "cell_type": "code",
   "execution_count": null,
   "id": "9ffbc779",
   "metadata": {},
   "outputs": [],
   "source": []
  },
  {
   "cell_type": "code",
   "execution_count": null,
   "id": "ed71c2a6",
   "metadata": {},
   "outputs": [],
   "source": [
    "# For this lab, we still keep using the marketing_customer_analysis.csv file that you can find in the files_for_lab folder.\n",
    "\n",
    "# It's time to put it all together. Remember the previous rounds and follow the steps as shown in previous lectures.\n",
    "\n",
    "# 01 - Problem (case study)\n",
    "    # Data Description.\n",
    "    # Goal.\n",
    "    \n",
    "# 02 - Getting Data\n",
    "    # Read the .csv file.\n",
    "    \n",
    "# 03 - Cleaning/Wrangling/EDA\n",
    "    # Change headers names.\n",
    "    # Deal with NaN values.\n",
    "    # Categorical Features.\n",
    "    # Numerical Features.\n",
    "    # Exploration.\n",
    "    \n",
    "# 04 - Processing Data\n",
    "    # Dealing with outliers.\n",
    "    # Normalization.\n",
    "    # Encoding Categorical Data.\n",
    "    # Splitting into train set and test set.\n",
    "    \n",
    "# 05 - Modeling\n",
    "    # Apply model.\n",
    "    \n",
    "# 06 - Model Validation\n",
    "    # R2.\n",
    "    # MSE.\n",
    "    # RMSE.\n",
    "    # MAE.\n",
    "    \n",
    "# 07 - Reporting\n",
    "    # Present results."
   ]
  }
 ],
 "metadata": {
  "kernelspec": {
   "display_name": "Python 3 (ipykernel)",
   "language": "python",
   "name": "python3"
  },
  "language_info": {
   "codemirror_mode": {
    "name": "ipython",
    "version": 3
   },
   "file_extension": ".py",
   "mimetype": "text/x-python",
   "name": "python",
   "nbconvert_exporter": "python",
   "pygments_lexer": "ipython3",
   "version": "3.9.13"
  }
 },
 "nbformat": 4,
 "nbformat_minor": 5
}
